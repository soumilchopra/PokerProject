{
 "cells": [
  {
   "cell_type": "markdown",
   "id": "f00f3fae-48ca-4b50-b087-2eafc425e9e8",
   "metadata": {},
   "source": [
    "## Deck and cards\n",
    "\n",
    "### List of functions\n",
    "\n",
    "\n",
    "#### Card class\n",
    "* getValue: get the value of the card\n",
    "* getSuit: get the suit of the card\n",
    "* getName: get the name of the card (composite attribute/unique identifier)\n",
    "\n",
    "#### Deck class\n",
    "* drawCard: return a card, and add it to the dead list"
   ]
  },
  {
   "cell_type": "code",
   "execution_count": 1,
   "id": "ac34547d-f6f8-47f6-9a91-13e0f61bb36a",
   "metadata": {},
   "outputs": [],
   "source": [
    "import random"
   ]
  },
  {
   "cell_type": "code",
   "execution_count": 2,
   "id": "386c2a96-4669-4b4c-9c55-edfa4dcc2361",
   "metadata": {},
   "outputs": [],
   "source": [
    "class Card: \n",
    "    def __init__(self, value, suit):\n",
    "        self.value = value\n",
    "        self.suit = suit\n",
    "        self.name = str(self.value) + self.suit"
   ]
  },
  {
   "cell_type": "code",
   "execution_count": 3,
   "id": "570c87be-72cf-4d2f-875e-1b577379233e",
   "metadata": {},
   "outputs": [],
   "source": [
    "class Deck:\n",
    "    # TODO:\n",
    "    # self.dealt = [] \n",
    "    # getDealt\n",
    "    # updateDealt\n",
    "    # burntCards\n",
    "    def __init__(self, shuffle=True):\n",
    "        self.value_list = ['2', '3', '4', '5', '6', '7', '8', '9', 'T', 'J', 'Q', 'K', 'A']\n",
    "        self.suit_list = ['s', 'h', 'd', 'c']        \n",
    "        self.live = self.makeDeck(self.value_list, self.suit_list, shuffle)\n",
    "        self.dead = []\n",
    "        \n",
    "    def makeDeck(self, value, suit, shuffle):\n",
    "        deck = []\n",
    "        if shuffle:         \n",
    "            random.shuffle(value)\n",
    "            random.shuffle(suit)\n",
    "        for v in value:\n",
    "            for s in suit:\n",
    "                if shuffle: random.shuffle(deck)\n",
    "                deck.append(Card(v, s))\n",
    "        return deck\n",
    "    \n",
    "    \n",
    "    def drawCard(self, number=1):\n",
    "        drawn = []\n",
    "        for i in range(number):\n",
    "            active_card = self.live.pop()\n",
    "            drawn.append(active_card)\n",
    "            self.dead.append(active_card)\n",
    "        return drawn    "
   ]
  },
  {
   "cell_type": "code",
   "execution_count": null,
   "id": "fe9cc1f2-061f-4f5c-a4fd-0ea77f78d776",
   "metadata": {},
   "outputs": [],
   "source": []
  }
 ],
 "metadata": {
  "kernelspec": {
   "display_name": "Poker",
   "language": "python",
   "name": "poker"
  },
  "language_info": {
   "codemirror_mode": {
    "name": "ipython",
    "version": 3
   },
   "file_extension": ".py",
   "mimetype": "text/x-python",
   "name": "python",
   "nbconvert_exporter": "python",
   "pygments_lexer": "ipython3",
   "version": "3.10.7+"
  }
 },
 "nbformat": 4,
 "nbformat_minor": 5
}
