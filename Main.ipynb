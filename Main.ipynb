{
 "cells": [
  {
   "cell_type": "markdown",
   "id": "5fa50179-8b7a-40f6-abc0-23329c41155c",
   "metadata": {},
   "source": [
    "## Main for testing"
   ]
  },
  {
   "cell_type": "code",
   "execution_count": null,
   "id": "2a89bc8b-679d-4b17-975d-851bdf1a29d8",
   "metadata": {},
   "outputs": [],
   "source": []
  }
 ],
 "metadata": {
  "kernelspec": {
   "display_name": "ProjectExploration",
   "language": "python",
   "name": "projectexploration"
  },
  "language_info": {
   "codemirror_mode": {
    "name": "ipython",
    "version": 3
   },
   "file_extension": ".py",
   "mimetype": "text/x-python",
   "name": "python",
   "nbconvert_exporter": "python",
   "pygments_lexer": "ipython3",
   "version": "3.8.13+"
  }
 },
 "nbformat": 4,
 "nbformat_minor": 5
}
