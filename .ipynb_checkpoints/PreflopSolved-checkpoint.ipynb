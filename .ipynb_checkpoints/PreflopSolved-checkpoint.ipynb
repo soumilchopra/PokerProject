{
 "cells": [
  {
   "cell_type": "markdown",
   "id": "9821145a-e9a4-4594-a634-08ef8959affc",
   "metadata": {},
   "source": [
    "## Preflop solutions\n",
    "\n",
    "### Goal\n",
    "* Want to have all preflop combinations/decision points hard-coded for 6 handed poker\n",
    "* Preflop has been solved through the usage of charts\n",
    "* Anything not listed on the preflop charts is a scenario, in which we automatically fold\n",
    "* We can potentially use abstraction here if needed, but with fully hard coded decision points it SHOULDNT BE\n"
   ]
  },
  {
   "cell_type": "code",
   "execution_count": 2,
   "id": "4941faf5-34dc-475a-a247-d6b1abfd4392",
   "metadata": {},
   "outputs": [],
   "source": [
    "import random\n",
    "import Deck \n",
    "import pandas as pd\n",
    "import sqlalchemy as sqa"
   ]
  },
  {
   "cell_type": "markdown",
   "id": "55ece416-b43b-4b0e-8792-0a8c1e8df6e9",
   "metadata": {},
   "source": [
    "## Storing this in the database\n",
    "1. We have a relation with primary key being the hand, eg: AA, AKs, AKo, etc\n",
    "2. Within these tuples there are five attributes: UTG, HJ, CO, BTN, SB\n",
    "3. Within these attributes there is a simple string value that is either:\n",
    "    * F: if the hand should not be opened\n",
    "    * L: if the hand should be opened with a limp\n",
    "    * R: if the hand should be opened with a raise"
   ]
  },
  {
   "cell_type": "code",
   "execution_count": 19,
   "id": "1e6ae3ed-4570-4acf-92d2-6fa80f694cc9",
   "metadata": {},
   "outputs": [],
   "source": [
    "## Creating RFI Table to read for actions\n",
    "def createRFI():\n",
    "    deck = Deck.Deck(shuffle=False)\n",
    "    deck.value_list.reverse()\n",
    "    df_range = pd.DataFrame(data=0, index=deck.value_list, columns=deck.value_list)\n",
    "    val_dict = {}\n",
    "    for val in deck.value_list:\n",
    "        match val:\n",
    "            case 'A':\n",
    "                val_dict[val] = 14\n",
    "            case 'K':\n",
    "                val_dict[val] = 13\n",
    "            case 'Q':\n",
    "                val_dict[val] = 12\n",
    "            case 'J':\n",
    "                val_dict[val] = 11\n",
    "            case 'T':\n",
    "                val_dict[val] = 10\n",
    "            case _:\n",
    "                val_dict[val] = int(val)\n",
    "    df_explain = df_range.copy(deep=True)\n",
    "    for val1, row in df_explain.iterrows():\n",
    "        for val2 in row.index:\n",
    "            prio1 = val_dict[val1]\n",
    "            prio2 = val_dict[val2]\n",
    "            if prio1 == prio2:\n",
    "                df_explain.loc[val1, val2] = val1+val2 \n",
    "            if prio1 > prio2:\n",
    "                 df_explain.loc[val1, val2] = val1+val2+'s'\n",
    "            if prio2 > prio1:\n",
    "                 df_explain.loc[val1,val2] = val2+val1+'o'            \n",
    "    #display(df_explain)\n",
    "\n",
    "\n",
    "    pos_opt = ['UTG', 'HJ', 'CO', 'BTN', 'SB']\n",
    "    hand_list = []\n",
    "    for idx, row in df_explain.iterrows():\n",
    "        for col in row.index:       \n",
    "            name = f'{df_explain.loc[col,idx]}'\n",
    "            hand_list.append(name)\n",
    "    RFI_df = pd.DataFrame(data='F', index=hand_list, columns=pos_opt, dtype='object')        \n",
    "    RFI_df.to_sql(name='RFI_Action', con=engine, schema='public', if_exists='fail', index=True)"
   ]
  },
  {
   "cell_type": "markdown",
   "id": "775e39b4-b4c6-4012-a01c-2f526af62a59",
   "metadata": {},
   "source": [
    "## Raise First Open\n",
    "1. Ensure no one has opened previously\n",
    "2. Take position and hand as inputs\n",
    "3. Search RFI table for primary key=hand, and attribute=position\n",
    "4. Return action listed"
   ]
  },
  {
   "cell_type": "code",
   "execution_count": 18,
   "id": "9bd5900a-df3a-4fc4-b65e-b746a10a7c89",
   "metadata": {},
   "outputs": [],
   "source": [
    "## Returning right action in real time\n",
    "def getRFIAction(position, hand, engine):\n",
    "    qry = f\"\"\"SELECT \"{position}\" \n",
    "              FROM \"RFI_Action\" ra \n",
    "              WHERE \"index\" = '{hand}'; \n",
    "            \"\"\"\n",
    "    act = pd.read_sql(qry, engine).squeeze()\n",
    "    return act"
   ]
  }
 ],
 "metadata": {
  "kernelspec": {
   "display_name": "Poker",
   "language": "python",
   "name": "poker"
  },
  "language_info": {
   "codemirror_mode": {
    "name": "ipython",
    "version": 3
   },
   "file_extension": ".py",
   "mimetype": "text/x-python",
   "name": "python",
   "nbconvert_exporter": "python",
   "pygments_lexer": "ipython3",
   "version": "3.10.7+"
  }
 },
 "nbformat": 4,
 "nbformat_minor": 5
}
