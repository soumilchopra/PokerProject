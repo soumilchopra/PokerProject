{
 "cells": [
  {
   "cell_type": "markdown",
   "id": "c7f17997-d5fd-4402-bb65-b9daba79b981",
   "metadata": {},
   "source": [
    "## Abstraction\n",
    "* Game is way too big so we will try to compress it to a smaller size while retaining as much information as possible \n",
    "\n",
    "\n",
    "### Potential areas for abstraction\n",
    "* Card abstraction\n",
    "* Action abstraction (bet sizing w/ action translation)\n",
    "* Player abstraction (segment players?)\n"
   ]
  },
  {
   "cell_type": "code",
   "execution_count": 1,
   "id": "9851b6ce-3e1b-488e-a712-57bc3dc1a6e6",
   "metadata": {},
   "outputs": [
    {
     "name": "stderr",
     "output_type": "stream",
     "text": [
      "[NbConvertApp] Converting notebook Deck.ipynb to script\n",
      "[NbConvertApp] Writing 1512 bytes to Deck.py\n",
      "[NbConvertApp] Converting notebook ActionHandler.ipynb to script\n",
      "[NbConvertApp] Writing 3436 bytes to ActionHandler.py\n"
     ]
    }
   ],
   "source": [
    "%%bash \n",
    "jupyter nbconvert --to script 'Deck.ipynb'\n",
    "jupyter nbconvert --to script 'ActionHandler.ipynb'"
   ]
  },
  {
   "cell_type": "code",
   "execution_count": 2,
   "id": "eef8a84c-a620-473b-b31f-1fbe347ee298",
   "metadata": {},
   "outputs": [],
   "source": [
    "import Deck "
   ]
  },
  {
   "cell_type": "code",
   "execution_count": null,
   "id": "8de1959f-f093-4e7e-ad6c-a16c00c7e7e8",
   "metadata": {},
   "outputs": [],
   "source": []
  }
 ],
 "metadata": {
  "kernelspec": {
   "display_name": "Poker",
   "language": "python",
   "name": "poker"
  },
  "language_info": {
   "codemirror_mode": {
    "name": "ipython",
    "version": 3
   },
   "file_extension": ".py",
   "mimetype": "text/x-python",
   "name": "python",
   "nbconvert_exporter": "python",
   "pygments_lexer": "ipython3",
   "version": "3.10.7+"
  }
 },
 "nbformat": 4,
 "nbformat_minor": 5
}
