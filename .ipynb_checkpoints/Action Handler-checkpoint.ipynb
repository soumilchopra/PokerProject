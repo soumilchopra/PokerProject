{
 "cells": [
  {
   "cell_type": "markdown",
   "id": "eda93554-d410-40b9-8dd6-ae56357ec8c5",
   "metadata": {},
   "source": [
    "## Action handler and rules configuration\n",
    "\n",
    "### List of functions\n",
    "\n",
    "#### Rule functions\n",
    "* getActions\n",
    "* getMinRaise\n",
    "\n",
    "\n",
    "\n",
    "\n",
    "#### Information needed for action round\n",
    "* Action round starts \n",
    "* Last action: no action\n",
    "* SB raises or checks\n",
    "* Last action: raise or check\n",
    "* BB:\n",
    "    * Raise: BB can raise, call, fold\n",
    "        * Need to know \"current call\" \n",
    "        * Need to know minimum raise amount\n",
    "    * Check: BB can raise, check\n",
    "        * Need to know minimum raise amount\n",
    "\n",
    "\n",
    "\n",
    "\n",
    "\n",
    "\n",
    "\n",
    "\n"
   ]
  },
  {
   "cell_type": "code",
   "execution_count": 3,
   "id": "567c7996-4271-4597-8ee6-cfc06ad6cdb4",
   "metadata": {},
   "outputs": [
    {
     "ename": "SyntaxError",
     "evalue": "invalid syntax (884175797.py, line 21)",
     "output_type": "error",
     "traceback": [
      "\u001b[0;36m  Cell \u001b[0;32mIn [3], line 21\u001b[0;36m\u001b[0m\n\u001b[0;31m    match self.last_action:\u001b[0m\n\u001b[0m          ^\u001b[0m\n\u001b[0;31mSyntaxError\u001b[0m\u001b[0;31m:\u001b[0m invalid syntax\n"
     ]
    }
   ],
   "source": [
    "class ActionHandler:\n",
    "    def __init__(self):\n",
    "        self.current_call = 0\n",
    "        # last_action ignores folds\n",
    "        \n",
    "    \n",
    "#     def actionRound(self):\n",
    "        \n",
    "#         while not all(flag):\n",
    "#             for player in flag.keys():\n",
    "#                 actions = self.getValidActions()\n",
    "#                 # TODO:\n",
    "#                 # here we display the list of actions, and the user inputs which action they would like to take\n",
    "                \n",
    "#                 # if raise: \n",
    "#                 # if call:\n",
    "#                 # if check:\n",
    "#                 # if fold:\n",
    "                \n",
    "def getValidActions(self):\n",
    "    match self.last_action:\n",
    "        case 'raise':\n",
    "            # valid actions are: raise, call, fold\n",
    "            return ['raise', 'call', 'fold']\n",
    "        case 'call':\n",
    "            # valid actions are: raise, call, fold\n",
    "            return ['raise', 'call', 'fold'] #check in case of blind w/full limp?\n",
    "        case 'check':\n",
    "            # valid actions are: raise, check\n",
    "            return ['raise', 'check']\n",
    "        case 'no action':\n",
    "            # valid actions are: raise, check\n",
    "            return ['raise', 'check']\n",
    "\n",
    "    \n",
    "    \n",
    "    \n",
    "    \n",
    "    "
   ]
  },
  {
   "cell_type": "code",
   "execution_count": 2,
   "id": "a1bbbf63-80b9-4409-ad8a-4fddbb34bc9c",
   "metadata": {},
   "outputs": [
    {
     "ename": "SyntaxError",
     "evalue": "invalid syntax (1276833830.py, line 2)",
     "output_type": "error",
     "traceback": [
      "\u001b[0;36m  Cell \u001b[0;32mIn [2], line 2\u001b[0;36m\u001b[0m\n\u001b[0;31m    MATCH self.last_action:\u001b[0m\n\u001b[0m          ^\u001b[0m\n\u001b[0;31mSyntaxError\u001b[0m\u001b[0;31m:\u001b[0m invalid syntax\n"
     ]
    }
   ],
   "source": [
    "                \n",
    "def getValidActions(self):\n",
    "    MATCH self.last_action:\n",
    "        case 'raise':\n",
    "            # valid actions are: raise, call, fold\n",
    "            return ['raise', 'call', 'fold']\n",
    "        case 'call':\n",
    "            # valid actions are: raise, call, fold\n",
    "            return ['raise', 'call', 'fold'] #check in case of blind w/full limp?\n",
    "        case 'check':\n",
    "            # valid actions are: raise, check\n",
    "            return ['raise', 'check']\n",
    "        case 'no action':\n",
    "            # valid actions are: raise, check\n",
    "            return ['raise', 'check']\n",
    "        case --:\n",
    "            return 0\n"
   ]
  },
  {
   "cell_type": "code",
   "execution_count": null,
   "id": "ffe38949-3299-45ad-8594-6f247093dbb9",
   "metadata": {},
   "outputs": [],
   "source": [
    "    \n",
    "    \n",
    "    \n",
    "    \n",
    "    ## Methods for player action\n",
    "    def readyCheck(self):\n",
    "        flag = {}\n",
    "        for player in self.players:\n",
    "            if player.status == 'active':\n",
    "                flag[player.position] = False\n",
    "        return flag\n",
    "    \n",
    "    \n",
    "    def actionRound(self):\n",
    "        flag = self.readyCheck()\n",
    "        while not all(flag):\n",
    "            for player in flag.keys():\n",
    "                #self.acts(player)\n",
    "                # if the players action is a bet we can simply call ready check again (pot  update)\n",
    "                # if the players action is a call we can set their value as true (pot update)\n",
    "                # if the players action is a check we can set their value as true (no pot update)\n",
    "                # if the players action is a fold we can remove them from flag and set them as inactive (no pot update)\n",
    "                #del flag[player]\n",
    "                break;\n",
    "            break;\n",
    "        return 0 \n",
    "        # update pot \n",
    "        \n",
    "\n",
    "    \n",
    "\n",
    "    # TODO: betting action\n",
    "    \n",
    "    \n",
    "    \n",
    "    "
   ]
  },
  {
   "cell_type": "code",
   "execution_count": 4,
   "id": "e22ecbdd-dce5-424a-95e3-4b496b396231",
   "metadata": {},
   "outputs": [
    {
     "name": "stdout",
     "output_type": "stream",
     "text": [
      "3.9.4\n"
     ]
    }
   ],
   "source": [
    "from platform import python_version\n",
    "\n",
    "print(python_version())"
   ]
  },
  {
   "cell_type": "code",
   "execution_count": null,
   "id": "36d5ed94-d03b-40de-9764-c3fe8458e2d3",
   "metadata": {},
   "outputs": [],
   "source": []
  }
 ],
 "metadata": {
  "kernelspec": {
   "display_name": "PokerProject",
   "language": "python",
   "name": "pokerproject"
  },
  "language_info": {
   "codemirror_mode": {
    "name": "ipython",
    "version": 3
   },
   "file_extension": ".py",
   "mimetype": "text/x-python",
   "name": "python",
   "nbconvert_exporter": "python",
   "pygments_lexer": "ipython3",
   "version": "3.9.4"
  }
 },
 "nbformat": 4,
 "nbformat_minor": 5
}
