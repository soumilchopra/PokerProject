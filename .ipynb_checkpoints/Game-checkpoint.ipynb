{
 "cells": [
  {
   "cell_type": "markdown",
   "id": "efce3a24-561c-46a1-8dd8-d7ae4d474394",
   "metadata": {},
   "source": [
    "## Game and player \n",
    "\n",
    "### List of functions\n",
    "\n",
    "#### Game class\n",
    "* Players\n",
    "* Button Updater\n",
    "* Stack sizes\n",
    "* Start Round\n",
    "* Update Stages\n",
    "* Play Flop\n",
    "\n",
    "\n",
    "* stack sizes\n",
    "* rotate btn\n",
    "* dealCards \n",
    "* playFlop\n",
    "* playRiver/Turn\n",
    "\n",
    "#### Player class\n",
    "* player cards\n",
    "* player actions\n",
    "    * bet\n",
    "    * check\n",
    "    * call\n",
    "    * fold"
   ]
  },
  {
   "cell_type": "code",
   "execution_count": 1,
   "id": "d4854475-6acb-4299-9b12-eb51af47fda2",
   "metadata": {},
   "outputs": [
    {
     "name": "stderr",
     "output_type": "stream",
     "text": [
      "[NbConvertApp] Converting notebook Deck.ipynb to script\n",
      "[NbConvertApp] Writing 1432 bytes to Deck.py\n"
     ]
    }
   ],
   "source": [
    "%%bash \n",
    "jupyter nbconvert --to script 'Deck.ipynb'"
   ]
  },
  {
   "cell_type": "code",
   "execution_count": 2,
   "id": "a27192bf-43c8-48a8-8c78-c2a97a6a7d87",
   "metadata": {},
   "outputs": [],
   "source": [
    "import Deck"
   ]
  },
  {
   "cell_type": "code",
   "execution_count": 3,
   "id": "bdbfb6a3-8b58-4191-b4ba-8d52e4b9a9a3",
   "metadata": {
    "tags": []
   },
   "outputs": [],
   "source": [
    "class Player:\n",
    "    def __init__(self, name, buyin=100.0):\n",
    "        self.name = 'P'+str(name) \n",
    "        self.stack = buyin\n",
    "        self.active = 0\n",
    "        self.status = 'inactive'\n",
    "        self.position = None\n",
    "        self.cards = []\n",
    "        \n",
    "        \n",
    "    def putBlind(self, size='big'):\n",
    "        if size == 'big':\n",
    "            self.stack = self.stack-1\n",
    "            self.active = 1\n",
    "        else:\n",
    "            self.stack = self.stack-0.5\n",
    "            self.active = 0.5\n",
    "        print(self.name + \" places \" + size + \" blind\")\n",
    "    \n",
    "    \n",
    "    def bet(self, amount):\n",
    "        diff = amount-self.active\n",
    "        self.stack = self.stack - diff\n",
    "        self.active = amount\n",
    "        print(self.name + \" bets \" + str(amount))\n",
    "    \n",
    "    \n",
    "    def call(self, call):\n",
    "        self.stack = self.stack-call\n",
    "        self.active += call\n",
    "        print(self.name + \" calls \" + str(call))\n",
    "    \n",
    "    \n",
    "    def check(self):\n",
    "        print(self.name + \" checks\")    \n",
    "    \n",
    "    \n",
    "    def fold(self):\n",
    "        self.status = 'inactive'"
   ]
  },
  {
   "cell_type": "code",
   "execution_count": 4,
   "id": "24d524d9-9efc-4c98-be61-64cd7bf8c273",
   "metadata": {
    "tags": []
   },
   "outputs": [],
   "source": [
    "class ActionHandler:\n",
    "    def __init__(self, start_action='raise'):\n",
    "        self.last_action = start_action\n",
    "        self.current_call = 1\n",
    "        self.flag = {}\n",
    "\n",
    "        \n",
    "    def getValidActions(self, player):\n",
    "        match self.last_action:\n",
    "            case 'raise':\n",
    "                return ['raise', 'call', 'fold']\n",
    "            case 'call':\n",
    "                if player.active!=self.current_call:\n",
    "                    return ['raise', 'call', 'fold'] \n",
    "                else:\n",
    "                    return ['raise', 'check']\n",
    "            case 'check':\n",
    "                return ['raise', 'check']\n",
    "            case 'no action':\n",
    "                return ['raise', 'check']\n",
    "\n",
    "            \n",
    "    def makeFlag(self, player_list):\n",
    "        flag = {}\n",
    "        for player in player_list:\n",
    "            if player.status == 'active':\n",
    "                flag[player] = False\n",
    "        self.flag = flag\n",
    "    \n",
    "    \n",
    "    def checkFlag(self):\n",
    "        return all(self.flag.values())\n",
    "\n",
    "    \n",
    "    def startAction(self, player_list):\n",
    "        self.makeFlag(player_list)\n",
    "        street_pot = 0\n",
    "        while not self.checkFlag():\n",
    "            player_iter = player_list.copy()\n",
    "            active_players = list(self.flag.keys())\n",
    "            for player in active_players:\n",
    "                print(\"_________________________________\")\n",
    "                valid = self.getValidActions(player)\n",
    "                print(valid)\n",
    "                action = input(player.name + \" action?\")\n",
    "                match action:\n",
    "                    case 'raise':\n",
    "                        sizing = self.raiseAmount(player)\n",
    "                        player.bet(sizing)\n",
    "                        street_pot += sizing\n",
    "                        self.current_call = sizing\n",
    "                        self.last_action = 'raise'\n",
    "                        self.makeFlag(player_list)\n",
    "                        self.flag[player] = True\n",
    "                    case 'call':\n",
    "                        diff = self.current_call - player.active\n",
    "                        player.call(diff)\n",
    "                        street_pot += diff\n",
    "                        self.last_action = 'call'\n",
    "                        self.flag[player] = True\n",
    "                        if self.checkFlag(): break\n",
    "                    case 'check':\n",
    "                        player.check()\n",
    "                        self.last_action = 'check'\n",
    "                        self.flag[player] = True\n",
    "                        if self.checkFlag(): break\n",
    "                    case 'fold':\n",
    "                        player.fold()\n",
    "                        del self.flag[player]\n",
    "                        if self.checkFlag(): break\n",
    "        self.prepAction()\n",
    "        return street_pot\n",
    "        \n",
    "\n",
    "    def raiseAmount(self, player):\n",
    "        minRaise = 1\n",
    "        maxRaise = player.stack\n",
    "        if self.current_call*2 >= maxRaise:\n",
    "            return maxRaise\n",
    "        if self.current_call != 0:\n",
    "            minRaise = self.current_call*2\n",
    "        print([minRaise, maxRaise])        \n",
    "        sizing = int(input(player.name + \" raise sizing?\"))\n",
    "        while not (minRaise <= sizing <= maxRaise):\n",
    "            sizing = int(input(\"Invalid sizing, try again\"))\n",
    "        return sizing\n",
    "    \n",
    "    \n",
    "    def prepAction(self):\n",
    "        for player in self.players:\n",
    "            player.active = 0\n",
    "        self.current_call = 0\n",
    "        self.last_action = 'no action'\n",
    "        \n",
    "# TODO: Determine showdown winner, def showdown():\n",
    "# TODO: Be able to allocate side pot \n",
    "# TODO: Seperate ActionHandler class so that every street a new ActionHandler object is created"
   ]
  },
  {
   "cell_type": "code",
   "execution_count": 5,
   "id": "84a670d1-4868-4770-b21f-04aa299fdf77",
   "metadata": {
    "tags": []
   },
   "outputs": [],
   "source": [
    "class Game(ActionHandler):\n",
    "    def __init__(self, players=6, positions=['BTN', 'SB', 'BB', 'UTG', 'HJ', 'CO'], hero='3', buyin=100):\n",
    "        self.hero = 'P'+str(hero) \n",
    "        self.players = [Player(i+1) for i in range(players)]\n",
    "        self.positions = positions\n",
    "        self.stage = 'Dealer shuffling'\n",
    "        self.btn = 'P1'\n",
    "        self.deck = Deck.Deck()\n",
    "        self.community = []\n",
    "        self.pot = 0\n",
    "        super().__init__()\n",
    "    \n",
    "    \n",
    "    # Method to execute a full hand of poker\n",
    "    def executeRound(self):\n",
    "        self.startRound()\n",
    "        self.nextCard(stage='Flop', cards=3)\n",
    "        self.nextCard(stage='Turn', cards=1)\n",
    "        self.nextCard(stage='River', cards=1)\n",
    "        self.getConfig()\n",
    "        self.prepRound()\n",
    "    \n",
    "\n",
    "    ## Methods for gameplay information\n",
    "    def getConfig(self):\n",
    "        if self.stage != 'Dealer shuffling':\n",
    "            print(\"Pot is: \" + str(self.pot))\n",
    "            for player, position in zip(self.players, self.positions):\n",
    "                print(player.name +\"    \"+ player.position +\"\\t\"+ str(player.stack))\n",
    "        else:\n",
    "            print(\"Round not started yet\")\n",
    "            \n",
    "            \n",
    "    def getCommunity(self):\n",
    "        for card in self.community:\n",
    "            print(card.name, end =\" \")\n",
    "        print()\n",
    "        print(\"Pot is: \" + str(self.pot))\n",
    "        \n",
    "    \n",
    "    def getHero(self, hero):\n",
    "        names = []\n",
    "        for card in hero.cards:\n",
    "            names.append(card.name)\n",
    "        print(\"Hero cards:\\t\" + str(names))\n",
    "    \n",
    "    \n",
    "    ## Methods to begin and prepare rounds\n",
    "    def startRound(self):\n",
    "        self.stage = 'Preflop'\n",
    "        for player, position in zip(self.players, self.positions):\n",
    "            player.position = position\n",
    "            player.status = 'active'\n",
    "            player.cards = self.deck.drawCard(2)\n",
    "            if player.name == self.hero:\n",
    "                self.getHero(player)\n",
    "        self.players.append(self.players.pop(0))\n",
    "        self.players[0].putBlind(size='small')\n",
    "        self.players[1].putBlind()\n",
    "        self.pot = 1.5\n",
    "        startOrder = self.players[2:] + self.players[:2]\n",
    "        self.pot += self.startAction(startOrder)\n",
    "        print(\"_________________________________\")\n",
    "    \n",
    "    \n",
    "    def nextCard(self, stage='Flop', cards=3):\n",
    "        self.stage = stage\n",
    "        burn = self.deck.drawCard(1)\n",
    "        self.community.extend(self.deck.drawCard(cards))\n",
    "        self.getCommunity()\n",
    "        self.pot += self.startAction(self.players)\n",
    "        print(\"_________________________________\")\n",
    "    \n",
    "    \n",
    "    def prepRound(self):\n",
    "        self.stage = 'Dealer shuffling'\n",
    "        self.btn = self.players[0].name\n",
    "        for player in self.players:\n",
    "            player.status = 'inactive'\n",
    "        self.deck = Deck.Deck()\n",
    "        self.community = []\n",
    "        self.pot = 0\n",
    "        self.last_action = 'raise'"
   ]
  },
  {
   "cell_type": "code",
   "execution_count": null,
   "id": "427fe3fd-69ba-4949-9779-47353c01c01a",
   "metadata": {},
   "outputs": [
    {
     "name": "stdout",
     "output_type": "stream",
     "text": [
      "Hero cards:\t['2s', '3s']\n",
      "P2 places small blind\n",
      "P3 places big blind\n",
      "_________________________________\n",
      "['raise', 'call', 'fold']\n"
     ]
    },
    {
     "name": "stdin",
     "output_type": "stream",
     "text": [
      "P4 action? fold\n"
     ]
    },
    {
     "name": "stdout",
     "output_type": "stream",
     "text": [
      "_________________________________\n",
      "['raise', 'call', 'fold']\n"
     ]
    },
    {
     "name": "stdin",
     "output_type": "stream",
     "text": [
      "P5 action? fold\n"
     ]
    },
    {
     "name": "stdout",
     "output_type": "stream",
     "text": [
      "_________________________________\n",
      "['raise', 'call', 'fold']\n"
     ]
    },
    {
     "name": "stdin",
     "output_type": "stream",
     "text": [
      "P6 action? fold\n"
     ]
    },
    {
     "name": "stdout",
     "output_type": "stream",
     "text": [
      "_________________________________\n",
      "['raise', 'call', 'fold']\n"
     ]
    },
    {
     "name": "stdin",
     "output_type": "stream",
     "text": [
      "P1 action? fold\n"
     ]
    },
    {
     "name": "stdout",
     "output_type": "stream",
     "text": [
      "_________________________________\n",
      "['raise', 'call', 'fold']\n"
     ]
    },
    {
     "name": "stdin",
     "output_type": "stream",
     "text": [
      "P2 action? call\n"
     ]
    },
    {
     "name": "stdout",
     "output_type": "stream",
     "text": [
      "P2 calls 0.5\n",
      "_________________________________\n",
      "['raise', 'check']\n"
     ]
    },
    {
     "name": "stdin",
     "output_type": "stream",
     "text": [
      "P3 action? check\n"
     ]
    },
    {
     "name": "stdout",
     "output_type": "stream",
     "text": [
      "P3 checks\n",
      "_________________________________\n",
      "Jc Kh 7h \n",
      "Pot is: 2.0\n",
      "_________________________________\n",
      "['raise', 'check']\n"
     ]
    },
    {
     "name": "stdin",
     "output_type": "stream",
     "text": [
      "P2 action? raise\n"
     ]
    },
    {
     "name": "stdout",
     "output_type": "stream",
     "text": [
      "[2, 99.0]\n"
     ]
    },
    {
     "name": "stdin",
     "output_type": "stream",
     "text": [
      "P2 raise sizing? 40\n"
     ]
    },
    {
     "name": "stdout",
     "output_type": "stream",
     "text": [
      "P2 bets 40\n",
      "_________________________________\n",
      "['raise', 'call', 'fold']\n"
     ]
    },
    {
     "name": "stdin",
     "output_type": "stream",
     "text": [
      "P3 action? call\n"
     ]
    },
    {
     "name": "stdout",
     "output_type": "stream",
     "text": [
      "P3 calls 40\n",
      "_________________________________\n",
      "Jc Kh 7h 7s \n",
      "Pot is: 82.0\n",
      "_________________________________\n",
      "['raise', 'call', 'fold']\n"
     ]
    },
    {
     "name": "stdin",
     "output_type": "stream",
     "text": [
      "P2 action? raise\n"
     ]
    },
    {
     "name": "stdout",
     "output_type": "stream",
     "text": [
      "P2 bets 59.0\n",
      "_________________________________\n",
      "['raise', 'call', 'fold']\n"
     ]
    }
   ],
   "source": [
    "game = Game()\n",
    "game.executeRound()\n"
   ]
  },
  {
   "cell_type": "code",
   "execution_count": 27,
   "id": "4e8f32c1-f864-4692-afb2-67a9dc1468ce",
   "metadata": {},
   "outputs": [],
   "source": [
    "## Bug cases\n",
    "\n",
    "\n",
    "\n",
    "## Solved\n",
    "# P4 fold\n",
    "# P5 fold\n",
    "# P6 fold\n",
    "# P1 fold\n",
    "# P2 call\n",
    "# P3 raise>10\n",
    "# P2 call\n",
    "# P2 saved .5BB\n",
    "\n",
    "## Solved\n",
    "# P4 raise>10 \n",
    "# P5 fold\n",
    "# P6 call\n",
    "# P1 raise>20\n",
    "# P2 fold\n",
    "# P3 call\n",
    "# P4 call\n",
    "# asking P5 action after P5 has folded?"
   ]
  },
  {
   "cell_type": "code",
   "execution_count": 7,
   "id": "b23c9168-bddc-460b-b09f-47d83d4d6dc9",
   "metadata": {},
   "outputs": [
    {
     "name": "stdout",
     "output_type": "stream",
     "text": [
      "a[2, 3]\n"
     ]
    }
   ],
   "source": [
    "a = [2,3]\n",
    "print(\"a\" + str(a))"
   ]
  },
  {
   "cell_type": "code",
   "execution_count": null,
   "id": "c81dde17-6bff-4092-8367-002bf3040347",
   "metadata": {},
   "outputs": [],
   "source": []
  }
 ],
 "metadata": {
  "kernelspec": {
   "display_name": "Poker",
   "language": "python",
   "name": "poker"
  },
  "language_info": {
   "codemirror_mode": {
    "name": "ipython",
    "version": 3
   },
   "file_extension": ".py",
   "mimetype": "text/x-python",
   "name": "python",
   "nbconvert_exporter": "python",
   "pygments_lexer": "ipython3",
   "version": "3.10.7+"
  }
 },
 "nbformat": 4,
 "nbformat_minor": 5
}
