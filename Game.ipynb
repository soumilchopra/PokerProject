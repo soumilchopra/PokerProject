{
 "cells": [
  {
   "cell_type": "markdown",
   "id": "efce3a24-561c-46a1-8dd8-d7ae4d474394",
   "metadata": {},
   "source": [
    "## Game and player \n",
    "\n",
    "### List of functions\n",
    "\n",
    "#### Game class\n",
    "\n",
    "#### Player class"
   ]
  },
  {
   "cell_type": "code",
   "execution_count": 1,
   "id": "d4854475-6acb-4299-9b12-eb51af47fda2",
   "metadata": {},
   "outputs": [
    {
     "name": "stderr",
     "output_type": "stream",
     "text": [
      "[NbConvertApp] Converting notebook Deck.ipynb to script\n",
      "[NbConvertApp] Writing 1431 bytes to Deck.py\n",
      "[NbConvertApp] Converting notebook ActionHandler.ipynb to script\n",
      "[NbConvertApp] Writing 3436 bytes to ActionHandler.py\n"
     ]
    }
   ],
   "source": [
    "%%bash \n",
    "jupyter nbconvert --to script 'Deck.ipynb'\n",
    "jupyter nbconvert --to script 'ActionHandler.ipynb'"
   ]
  },
  {
   "cell_type": "code",
   "execution_count": 2,
   "id": "a27192bf-43c8-48a8-8c78-c2a97a6a7d87",
   "metadata": {},
   "outputs": [],
   "source": [
    "import Deck \n",
    "import ActionHandler\n",
    "import termcolor\n",
    "import treys"
   ]
  },
  {
   "cell_type": "code",
   "execution_count": 3,
   "id": "bdbfb6a3-8b58-4191-b4ba-8d52e4b9a9a3",
   "metadata": {
    "tags": []
   },
   "outputs": [],
   "source": [
    "class Player:\n",
    "    def __init__(self, name, buyin=100.0):\n",
    "        self.name = 'P'+str(name) \n",
    "        self.stack = buyin\n",
    "        self.active = 0\n",
    "        self.status = 'inactive'\n",
    "        self.position = None\n",
    "        self.cards = []\n",
    "        self.card_names = []\n",
    "        \n",
    "    \n",
    "    def bet(self, amount, blind=False):\n",
    "        diff = amount-self.active\n",
    "        self.stack = self.stack - diff\n",
    "        self.active = amount\n",
    "        if blind==False: print(self.name + \" bets \" + str(amount))\n",
    "        else: print(self.name + \" places \" + str(amount) + \" blind\")\n",
    "    \n",
    "    def call(self, call):\n",
    "        self.stack = self.stack-call\n",
    "        self.active += call\n",
    "        print(self.name + \" calls \" + str(call))\n",
    "    \n",
    "    \n",
    "    def check(self):\n",
    "        print(self.name + \" checks\")    \n",
    "    \n",
    "    \n",
    "    def fold(self):\n",
    "        self.status = 'inactive'"
   ]
  },
  {
   "cell_type": "code",
   "execution_count": 4,
   "id": "84a670d1-4868-4770-b21f-04aa299fdf77",
   "metadata": {
    "tags": []
   },
   "outputs": [],
   "source": [
    "class Game():\n",
    "    def __init__(self, players=6, positions=['BTN', 'SB', 'BB', 'UTG', 'HJ', 'CO'], hero=3, buyin=100):\n",
    "        self.players = [Player(i+1) for i in range(players)]\n",
    "        self.players[hero-1].name = 'HERO'\n",
    "        self.positions = positions\n",
    "        self.stage = 'Dealer shuffling'\n",
    "        self.btn = 'P1'\n",
    "        self.deck = Deck.Deck()\n",
    "        self.community = []\n",
    "        self.pot = 0\n",
    "    \n",
    "    \n",
    "    ## Method to execute a full hand of poker\n",
    "    def mainloop(self):\n",
    "        stay = True\n",
    "        while stay:\n",
    "            self.executeRound()\n",
    "            response = input(\"Do you want to keep playing? (y/n)\")\n",
    "            if response != 'y': stay = False \n",
    "    \n",
    "    \n",
    "    def executeRound(self):\n",
    "        self.startRound()\n",
    "        self.nextCard(stage='Flop', cards=3)\n",
    "        self.nextCard(stage='Turn', cards=1)\n",
    "        self.nextCard(stage='River', cards=1)\n",
    "        self.getShowdown()\n",
    "        self.getStacks()\n",
    "        self.prepRound()\n",
    "    \n",
    "\n",
    "    \n",
    "    ## Methods for gameplay information\n",
    "    def getStacks(self):\n",
    "        for player, position in zip(self.players, self.positions):\n",
    "            print(player.name +\"    \"+ player.position +\"\\t\"+ str(player.stack))\n",
    "            \n",
    "            \n",
    "    def getCommunity(self):\n",
    "        board = [treys.Card.new(card.name) for card in self.community]\n",
    "        treys.Card.print_pretty_cards(board)\n",
    "        print(\"Pot is: \" + str(self.pot))\n",
    "        \n",
    "            \n",
    "    def getCardNames(self, player, show=False):\n",
    "        names = [card.name for card in player.cards]\n",
    "        show_cards = [treys.Card.new(card.name) for card in player.cards]\n",
    "        if show: \n",
    "            print(player.position + \"\\t\" + player.name + \" cards: \", end=\"\")\n",
    "            treys.Card.print_pretty_cards(show_cards)\n",
    "        return show_cards\n",
    "            \n",
    "        \n",
    "        \n",
    "    ## Methods to begin and prepare rounds\n",
    "    def startRound(self):\n",
    "        self.stage = 'Preflop'\n",
    "        for player, position in zip(self.players, self.positions):\n",
    "            player.position = position\n",
    "            player.status = 'active'\n",
    "            player.cards = self.deck.drawCard(2)\n",
    "            temp = self.getCardNames(player, show=True)\n",
    "        self.players.append(self.players.pop(0))\n",
    "        self.players[0].bet(.5, True)\n",
    "        self.players[1].bet(1, True)\n",
    "        self.pot = 1.5\n",
    "        startOrder = self.players[2:] + self.players[:2]\n",
    "        self.actionWrapper(start_action='raise', order=startOrder)\n",
    "        print(\"_________________________________\")\n",
    "    \n",
    "    \n",
    "    def nextCard(self, stage='Flop', cards=3):\n",
    "        self.stage = stage\n",
    "        burn = self.deck.drawCard(1)\n",
    "        self.community.extend(self.deck.drawCard(cards))\n",
    "        self.getCommunity()\n",
    "        self.actionWrapper()\n",
    "        print(\"_________________________________\")\n",
    "\n",
    "        \n",
    "    def actionWrapper(self, start_action='no action', order=None):\n",
    "        if order is None: order = self.players\n",
    "        handler = ActionHandler.ActionHandler(start_action)\n",
    "        self.pot += handler.startAction(order)\n",
    "        for player in self.players:\n",
    "            player.active = 0\n",
    "        \n",
    "                \n",
    "    def getShowdown(self):\n",
    "        best_score, winner = 7643, None # hands determined from best to 7642\n",
    "        evaluator = treys.Evaluator()\n",
    "        board = [treys.Card.new(card.name) for card in self.community]\n",
    "        for player in self.players:\n",
    "            if player.status == 'active':  \n",
    "                hand = self.getCardNames(player)\n",
    "                score = evaluator.evaluate(board, hand)\n",
    "                if  best_score > score: \n",
    "                    best_score = score\n",
    "                    winner = player\n",
    "        print(winner.name + \" won pot of \", self.pot)\n",
    "        winner.stack += self.pot \n",
    "        self.pot = 0\n",
    "\n",
    "        \n",
    "    def prepRound(self):\n",
    "        self.stage = 'Dealer shuffling'\n",
    "        self.btn = self.players[0].name\n",
    "        for player in self.players:\n",
    "            player.status = 'inactive'\n",
    "            player.cards = []\n",
    "            player.card_names = []\n",
    "        self.deck = Deck.Deck()\n",
    "        self.community = []\n",
    "        self.pot = 0\n",
    "        self.last_action = 'raise'\n",
    "       \n",
    "    \n",
    "# TODO: Determine showdown winner, def showdown():\n",
    "# TODO: Be able to allocate side pot "
   ]
  },
  {
   "cell_type": "code",
   "execution_count": 5,
   "id": "427fe3fd-69ba-4949-9779-47353c01c01a",
   "metadata": {},
   "outputs": [
    {
     "name": "stdout",
     "output_type": "stream",
     "text": [
      "BTN\tP1 cards:  [A\u001b[32m♣\u001b[0m],[8\u001b[31m♥\u001b[0m] \n",
      "SB\tP2 cards:  [2\u001b[31m♥\u001b[0m],[5\u001b[34m♦\u001b[0m] \n",
      "BB\tHERO cards:  [J\u001b[32m♣\u001b[0m],[3\u001b[34m♦\u001b[0m] \n",
      "UTG\tP4 cards:  [K\u001b[32m♣\u001b[0m],[J\u001b[34m♦\u001b[0m] \n",
      "HJ\tP5 cards:  [T\u001b[34m♦\u001b[0m],[T\u001b[32m♣\u001b[0m] \n",
      "CO\tP6 cards:  [8♠],[3♠] \n",
      "P2 places 0.5 blind\n",
      "HERO places 1 blind\n",
      "_________________________________\n",
      "['raise', 'call', 'fold']\n"
     ]
    },
    {
     "name": "stdin",
     "output_type": "stream",
     "text": [
      "P4 action? raise\n"
     ]
    },
    {
     "name": "stdout",
     "output_type": "stream",
     "text": [
      "[2, 100.0]\n"
     ]
    },
    {
     "name": "stdin",
     "output_type": "stream",
     "text": [
      "P4 raise sizing? 6\n"
     ]
    },
    {
     "name": "stdout",
     "output_type": "stream",
     "text": [
      "P4 bets 6\n",
      "_________________________________\n",
      "['raise', 'call', 'fold']\n"
     ]
    },
    {
     "name": "stdin",
     "output_type": "stream",
     "text": [
      "P5 action? raise\n"
     ]
    },
    {
     "name": "stdout",
     "output_type": "stream",
     "text": [
      "[12, 100.0]\n"
     ]
    },
    {
     "name": "stdin",
     "output_type": "stream",
     "text": [
      "P5 raise sizing? 18\n"
     ]
    },
    {
     "name": "stdout",
     "output_type": "stream",
     "text": [
      "P5 bets 18\n",
      "_________________________________\n",
      "['raise', 'call', 'fold']\n"
     ]
    },
    {
     "name": "stdin",
     "output_type": "stream",
     "text": [
      "P6 action? fold\n"
     ]
    },
    {
     "name": "stdout",
     "output_type": "stream",
     "text": [
      "_________________________________\n",
      "['raise', 'call', 'fold']\n"
     ]
    },
    {
     "name": "stdin",
     "output_type": "stream",
     "text": [
      "P1 action? fold\n"
     ]
    },
    {
     "name": "stdout",
     "output_type": "stream",
     "text": [
      "_________________________________\n",
      "['raise', 'call', 'fold']\n"
     ]
    },
    {
     "name": "stdin",
     "output_type": "stream",
     "text": [
      "P2 action? fold\n"
     ]
    },
    {
     "name": "stdout",
     "output_type": "stream",
     "text": [
      "_________________________________\n",
      "['raise', 'call', 'fold']\n"
     ]
    },
    {
     "name": "stdin",
     "output_type": "stream",
     "text": [
      "HERO action? fold\n"
     ]
    },
    {
     "name": "stdout",
     "output_type": "stream",
     "text": [
      "_________________________________\n",
      "['raise', 'call', 'fold']\n"
     ]
    },
    {
     "name": "stdin",
     "output_type": "stream",
     "text": [
      "P4 action? call\n"
     ]
    },
    {
     "name": "stdout",
     "output_type": "stream",
     "text": [
      "P4 calls 12\n",
      "_________________________________\n",
      " [T\u001b[31m♥\u001b[0m],[J\u001b[31m♥\u001b[0m],[3\u001b[31m♥\u001b[0m] \n",
      "Pot is: 37.5\n",
      "_________________________________\n",
      "['raise', 'check']\n"
     ]
    },
    {
     "name": "stdin",
     "output_type": "stream",
     "text": [
      "P4 action? check\n"
     ]
    },
    {
     "name": "stdout",
     "output_type": "stream",
     "text": [
      "P4 checks\n",
      "_________________________________\n",
      "['raise', 'check']\n"
     ]
    },
    {
     "name": "stdin",
     "output_type": "stream",
     "text": [
      "P5 action? raise\n"
     ]
    },
    {
     "name": "stdout",
     "output_type": "stream",
     "text": [
      "[2, 82.0]\n"
     ]
    },
    {
     "name": "stdin",
     "output_type": "stream",
     "text": [
      "P5 raise sizing? 10\n"
     ]
    },
    {
     "name": "stdout",
     "output_type": "stream",
     "text": [
      "P5 bets 10\n",
      "_________________________________\n",
      "['raise', 'call', 'fold']\n"
     ]
    },
    {
     "name": "stdin",
     "output_type": "stream",
     "text": [
      "P4 action? raise\n"
     ]
    },
    {
     "name": "stdout",
     "output_type": "stream",
     "text": [
      "[20, 82.0]\n"
     ]
    },
    {
     "name": "stdin",
     "output_type": "stream",
     "text": [
      "P4 raise sizing? 30\n"
     ]
    },
    {
     "name": "stdout",
     "output_type": "stream",
     "text": [
      "P4 bets 30\n",
      "_________________________________\n",
      "['raise', 'call', 'fold']\n"
     ]
    },
    {
     "name": "stdin",
     "output_type": "stream",
     "text": [
      "P5 action? call\n"
     ]
    },
    {
     "name": "stdout",
     "output_type": "stream",
     "text": [
      "P5 calls 20\n",
      "_________________________________\n",
      " [T\u001b[31m♥\u001b[0m],[J\u001b[31m♥\u001b[0m],[3\u001b[31m♥\u001b[0m],[5♠] \n",
      "Pot is: 97.5\n",
      "_________________________________\n",
      "['raise', 'check']\n"
     ]
    },
    {
     "name": "stdin",
     "output_type": "stream",
     "text": [
      "P4 action? check\n"
     ]
    },
    {
     "name": "stdout",
     "output_type": "stream",
     "text": [
      "P4 checks\n",
      "_________________________________\n",
      "['raise', 'check']\n"
     ]
    },
    {
     "name": "stdin",
     "output_type": "stream",
     "text": [
      "P5 action? raise\n"
     ]
    },
    {
     "name": "stdout",
     "output_type": "stream",
     "text": [
      "[2, 52.0]\n"
     ]
    },
    {
     "name": "stdin",
     "output_type": "stream",
     "text": [
      "P5 raise sizing? 52\n"
     ]
    },
    {
     "name": "stdout",
     "output_type": "stream",
     "text": [
      "P5 bets 52\n",
      "_________________________________\n",
      "['raise', 'call', 'fold']\n"
     ]
    },
    {
     "name": "stdin",
     "output_type": "stream",
     "text": [
      "P4 action? fold\n"
     ]
    },
    {
     "name": "stdout",
     "output_type": "stream",
     "text": [
      "_________________________________\n",
      " [T\u001b[31m♥\u001b[0m],[J\u001b[31m♥\u001b[0m],[3\u001b[31m♥\u001b[0m],[5♠],[9\u001b[32m♣\u001b[0m] \n",
      "Pot is: 149.5\n",
      "_________________________________\n",
      "['raise', 'check']\n"
     ]
    },
    {
     "name": "stdin",
     "output_type": "stream",
     "text": [
      "P5 action? check\n"
     ]
    },
    {
     "name": "stdout",
     "output_type": "stream",
     "text": [
      "P5 checks\n",
      "_________________________________\n",
      "P5 won pot of  149.5\n",
      "P2    SB\t99.5\n",
      "HERO    BB\t99.0\n",
      "P4    UTG\t52.0\n",
      "P5    HJ\t149.5\n",
      "P6    CO\t100.0\n",
      "P1    BTN\t100.0\n"
     ]
    },
    {
     "name": "stdin",
     "output_type": "stream",
     "text": [
      "Do you want to keep playing? (y/n) y\n"
     ]
    },
    {
     "name": "stdout",
     "output_type": "stream",
     "text": [
      "BTN\tP2 cards:  [Q\u001b[34m♦\u001b[0m],[J\u001b[31m♥\u001b[0m] \n",
      "SB\tHERO cards:  [T\u001b[32m♣\u001b[0m],[A\u001b[31m♥\u001b[0m] \n",
      "BB\tP4 cards:  [8\u001b[32m♣\u001b[0m],[T\u001b[34m♦\u001b[0m] \n",
      "UTG\tP5 cards:  [Q\u001b[31m♥\u001b[0m],[5\u001b[34m♦\u001b[0m] \n",
      "HJ\tP6 cards:  [6♠],[5\u001b[32m♣\u001b[0m] \n",
      "CO\tP1 cards:  [T\u001b[31m♥\u001b[0m],[K\u001b[34m♦\u001b[0m] \n",
      "HERO places 0.5 blind\n",
      "P4 places 1 blind\n",
      "_________________________________\n",
      "['raise', 'call', 'fold']\n"
     ]
    },
    {
     "name": "stdin",
     "output_type": "stream",
     "text": [
      "P5 action? fold\n"
     ]
    },
    {
     "name": "stdout",
     "output_type": "stream",
     "text": [
      "_________________________________\n",
      "['raise', 'call', 'fold']\n"
     ]
    },
    {
     "name": "stdin",
     "output_type": "stream",
     "text": [
      "P6 action? fold\n"
     ]
    },
    {
     "name": "stdout",
     "output_type": "stream",
     "text": [
      "_________________________________\n",
      "['raise', 'call', 'fold']\n"
     ]
    },
    {
     "name": "stdin",
     "output_type": "stream",
     "text": [
      "P1 action? raise\n"
     ]
    },
    {
     "name": "stdout",
     "output_type": "stream",
     "text": [
      "[2, 100.0]\n"
     ]
    },
    {
     "name": "stdin",
     "output_type": "stream",
     "text": [
      "P1 raise sizing? 6\n"
     ]
    },
    {
     "name": "stdout",
     "output_type": "stream",
     "text": [
      "P1 bets 6\n",
      "_________________________________\n",
      "['raise', 'call', 'fold']\n"
     ]
    },
    {
     "name": "stdin",
     "output_type": "stream",
     "text": [
      "P2 action? call\n"
     ]
    },
    {
     "name": "stdout",
     "output_type": "stream",
     "text": [
      "P2 calls 6\n",
      "_________________________________\n",
      "['raise', 'call', 'fold']\n"
     ]
    },
    {
     "name": "stdin",
     "output_type": "stream",
     "text": [
      "HERO action? raise\n"
     ]
    },
    {
     "name": "stdout",
     "output_type": "stream",
     "text": [
      "[12, 98.5]\n"
     ]
    },
    {
     "name": "stdin",
     "output_type": "stream",
     "text": [
      "HERO raise sizing? 18\n"
     ]
    },
    {
     "name": "stdout",
     "output_type": "stream",
     "text": [
      "HERO bets 18\n",
      "_________________________________\n",
      "['raise', 'call', 'fold']\n"
     ]
    },
    {
     "name": "stdin",
     "output_type": "stream",
     "text": [
      "P4 action? call\n"
     ]
    },
    {
     "name": "stdout",
     "output_type": "stream",
     "text": [
      "P4 calls 17\n",
      "_________________________________\n",
      "['raise', 'call', 'fold']\n"
     ]
    },
    {
     "name": "stdin",
     "output_type": "stream",
     "text": [
      "P1 action? call\n"
     ]
    },
    {
     "name": "stdout",
     "output_type": "stream",
     "text": [
      "P1 calls 12\n",
      "_________________________________\n",
      "['raise', 'call', 'fold']\n"
     ]
    },
    {
     "name": "stdin",
     "output_type": "stream",
     "text": [
      "P2 action? call\n"
     ]
    },
    {
     "name": "stdout",
     "output_type": "stream",
     "text": [
      "P2 calls 12\n",
      "_________________________________\n",
      " [2\u001b[32m♣\u001b[0m],[J♠],[5\u001b[31m♥\u001b[0m] \n",
      "Pot is: 72.5\n",
      "_________________________________\n",
      "['raise', 'check']\n"
     ]
    },
    {
     "name": "stdin",
     "output_type": "stream",
     "text": [
      "HERO action? raise\n"
     ]
    },
    {
     "name": "stdout",
     "output_type": "stream",
     "text": [
      "[2, 81.0]\n"
     ]
    },
    {
     "name": "stdin",
     "output_type": "stream",
     "text": [
      "HERO raise sizing? 20\n"
     ]
    },
    {
     "name": "stdout",
     "output_type": "stream",
     "text": [
      "HERO bets 20\n",
      "_________________________________\n",
      "['raise', 'call', 'fold']\n"
     ]
    },
    {
     "name": "stdin",
     "output_type": "stream",
     "text": [
      "P4 action? fold\n"
     ]
    },
    {
     "name": "stdout",
     "output_type": "stream",
     "text": [
      "_________________________________\n",
      "['raise', 'call', 'fold']\n"
     ]
    },
    {
     "name": "stdin",
     "output_type": "stream",
     "text": [
      "P1 action? fold\n"
     ]
    },
    {
     "name": "stdout",
     "output_type": "stream",
     "text": [
      "_________________________________\n",
      "['raise', 'call', 'fold']\n"
     ]
    },
    {
     "name": "stdin",
     "output_type": "stream",
     "text": [
      "P2 action? call\n"
     ]
    },
    {
     "name": "stdout",
     "output_type": "stream",
     "text": [
      "P2 calls 20\n",
      "_________________________________\n",
      " [2\u001b[32m♣\u001b[0m],[J♠],[5\u001b[31m♥\u001b[0m],[4♠] \n",
      "Pot is: 112.5\n",
      "_________________________________\n",
      "['raise', 'check']\n"
     ]
    },
    {
     "name": "stdin",
     "output_type": "stream",
     "text": [
      "HERO action? check\n"
     ]
    },
    {
     "name": "stdout",
     "output_type": "stream",
     "text": [
      "HERO checks\n",
      "_________________________________\n",
      "['raise', 'check']\n"
     ]
    },
    {
     "name": "stdin",
     "output_type": "stream",
     "text": [
      "P2 action? raise\n"
     ]
    },
    {
     "name": "stdout",
     "output_type": "stream",
     "text": [
      "[2, 61.5]\n"
     ]
    },
    {
     "name": "stdin",
     "output_type": "stream",
     "text": [
      "P2 raise sizing? 20\n"
     ]
    },
    {
     "name": "stdout",
     "output_type": "stream",
     "text": [
      "P2 bets 20\n",
      "_________________________________\n",
      "['raise', 'call', 'fold']\n"
     ]
    },
    {
     "name": "stdin",
     "output_type": "stream",
     "text": [
      "HERO action? call\n"
     ]
    },
    {
     "name": "stdout",
     "output_type": "stream",
     "text": [
      "HERO calls 20\n",
      "_________________________________\n",
      " [2\u001b[32m♣\u001b[0m],[J♠],[5\u001b[31m♥\u001b[0m],[4♠],[7\u001b[31m♥\u001b[0m] \n",
      "Pot is: 152.5\n",
      "_________________________________\n",
      "['raise', 'check']\n"
     ]
    },
    {
     "name": "stdin",
     "output_type": "stream",
     "text": [
      "HERO action? check\n"
     ]
    },
    {
     "name": "stdout",
     "output_type": "stream",
     "text": [
      "HERO checks\n",
      "_________________________________\n",
      "['raise', 'check']\n"
     ]
    },
    {
     "name": "stdin",
     "output_type": "stream",
     "text": [
      "P2 action? check\n"
     ]
    },
    {
     "name": "stdout",
     "output_type": "stream",
     "text": [
      "P2 checks\n",
      "_________________________________\n",
      "P2 won pot of  152.5\n",
      "HERO    SB\t41.0\n",
      "P4    BB\t34.0\n",
      "P5    UTG\t149.5\n",
      "P6    HJ\t100.0\n",
      "P1    CO\t82.0\n",
      "P2    BTN\t194.0\n"
     ]
    },
    {
     "name": "stdin",
     "output_type": "stream",
     "text": [
      "Do you want to keep playing? (y/n) n\n"
     ]
    }
   ],
   "source": [
    "game = Game()\n",
    "game.mainloop()"
   ]
  },
  {
   "cell_type": "code",
   "execution_count": 4,
   "id": "c78cab85-d1b3-41d5-b686-b96422f2209b",
   "metadata": {},
   "outputs": [],
   "source": [
    "import tkinter as tk\n",
    "from tkinter import filedialog, Text\n",
    "import os\n",
    "\n",
    "root = tk.Tk()\n",
    "root.mainloop()\n"
   ]
  },
  {
   "cell_type": "code",
   "execution_count": null,
   "id": "d2a2673c-befe-4936-841a-16a29b7da3e5",
   "metadata": {},
   "outputs": [],
   "source": []
  }
 ],
 "metadata": {
  "kernelspec": {
   "display_name": "Poker",
   "language": "python",
   "name": "poker"
  },
  "language_info": {
   "codemirror_mode": {
    "name": "ipython",
    "version": 3
   },
   "file_extension": ".py",
   "mimetype": "text/x-python",
   "name": "python",
   "nbconvert_exporter": "python",
   "pygments_lexer": "ipython3",
   "version": "3.10.7+"
  }
 },
 "nbformat": 4,
 "nbformat_minor": 5
}
